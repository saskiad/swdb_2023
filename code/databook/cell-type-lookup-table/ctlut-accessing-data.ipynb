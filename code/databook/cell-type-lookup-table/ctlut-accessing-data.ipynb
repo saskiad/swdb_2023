{
 "cells": [
  {
   "cell_type": "markdown",
   "id": "32ec9bad-7821-4bf2-82ad-6d25766a2871",
   "metadata": {},
   "source": [
    "# Accessing cell type lookup table data"
   ]
  },
  {
   "cell_type": "markdown",
   "id": "58c79309-6f64-4e3c-a603-50fc8df117aa",
   "metadata": {},
   "source": [
    "## Overview\n",
    "\n",
    "This notebook will go over how to load the cell type lookup table data and access its contents. Unlike other Allen Institute data sets, this data was very recently collected and is not publicly available, so you will access it by attaching the \"cell_type_lookup_table_nwb\" data asset and interacting with it through your capsule."
   ]
  },
  {
   "cell_type": "markdown",
   "id": "6d670bfa-091e-4897-90ce-1064b623fc40",
   "metadata": {},
   "source": [
    "## Import required packages\n",
    "Since the data is packaged as nwb files, you'll need to import hdmf_zarr to interact with the data. The metadata for each experiment is stored as .json files, so you'll want to import json as well.\n",
    "\n",
    "...and os is just nice for formatting file paths!"
   ]
  },
  {
   "cell_type": "code",
   "execution_count": 2,
   "id": "d7c393a3-d3cb-4b93-be8c-a5efa3554fb7",
   "metadata": {},
   "outputs": [],
   "source": [
    "from hdmf_zarr import NWBZarrIO\n",
    "import json\n",
    "import os"
   ]
  },
  {
   "cell_type": "markdown",
   "id": "6f9a8c8e-dc3e-4725-87c0-608f3c3166b9",
   "metadata": {
    "tags": []
   },
   "source": [
    "## Loading the data\n",
    "\n",
    "Let's try loading one session's worth of data to see how to work with it."
   ]
  },
  {
   "cell_type": "code",
   "execution_count": 3,
   "id": "46010e5e-a3e8-4a0f-a395-c168eeeb3c12",
   "metadata": {},
   "outputs": [],
   "source": [
    "# an 'arbitrarily' selected session\n",
    "session = '661398_2023-04-03_15-47-29'\n",
    "session_directory = f'/data/cell_type_lookup_table_nwb/ecephys_{session}_nwb'\n",
    "\n",
    "nwb_file = os.path.join(session_directory, f'ecephys_{session}_experiment1_recording1.nwb.zarr')\n",
    "io = NWBZarrIO(nwb_file, \"r\")\n",
    "nwbfile_read = io.read()"
   ]
  },
  {
   "cell_type": "markdown",
   "id": "d6baa4b1-d910-443d-8c88-42be0112262b",
   "metadata": {},
   "source": [
    "If you'd like to explore the contents of the nwb file in a widget with a graphical user interface, you can install nwb2widget in your environment, then run:\n",
    "\n",
    "```{code-cell} ipython3\n",
    "from nwbwidgets import nwb2widget\n",
    "nwb2widget(nwbfile_read)\n",
    "```\n",
    "\n"
   ]
  },
  {
   "cell_type": "markdown",
   "id": "5ea4b866-4a00-4970-a6ac-b26ca8b30d80",
   "metadata": {},
   "source": [
    "Before further working with this data, let's take a look at the metadata so we know what to expect."
   ]
  },
  {
   "cell_type": "code",
   "execution_count": 9,
   "id": "992c46c5-0676-4600-ac88-c14d0ec4520b",
   "metadata": {},
   "outputs": [
    {
     "name": "stdout",
     "output_type": "stream",
     "text": [
      "Adora2a-Cre/wt\n",
      "['D1 enhancer CoChR', 'DIO-ChRmine-mScarlet']\n"
     ]
    }
   ],
   "source": [
    "# subject.json contains info about the mouse, procedures.json contains info about surgeries and such that were performed\n",
    "subject_json = os.path.join(session_directory, 'subject.json')\n",
    "procedures_json = os.path.join(session_directory, 'procedures.json')\n",
    "\n",
    "# load both json files\n",
    "with open(subject_json, 'r', ) as f:\n",
    "    subject = json.load(f)\n",
    "with open(procedures_json, 'r', ) as f:\n",
    "    procedures = json.load(f)\n",
    "\n",
    "print(subject['genotype'])\n",
    "\n",
    "virus_names = []\n",
    "try:\n",
    "    for material in procedures['injections'][0]['injection_materials']:\n",
    "        virus_names.append(material['name'])\n",
    "except(KeyError):\n",
    "    for material in procedures['subject_procedures'][2]['injection_materials']: # the procedures scraped from NSB are formatted differently\n",
    "        virus_names.append(material['name'])\n",
    "\n",
    "print(virus_names)"
   ]
  },
  {
   "cell_type": "markdown",
   "id": "f633998d-fab4-41e8-8068-679d7dd9e1c2",
   "metadata": {},
   "source": [
    "So this animal was Adora2a-Cre (meaning it expresses Cre in D2 cells) and it was injected with two viruses: an enhancer delivering CoChR to D1 cells, and a Cre-dependent virus delivering ChRmine. From this, we can conclude that this mouse should express CoChR in D1 cells and ChRmine in D2 cells. Therefore, any cells responding to blue laser pulses are D1 calls, and cells responding to red laser pulses are D2 cells!"
   ]
  },
  {
   "cell_type": "markdown",
   "id": "61d6db2e-e704-495a-a9a3-ab95327781b0",
   "metadata": {},
   "source": [
    "## Loading unit data\n",
    "The \"units\" from an electrophysiological recording are the outputs of a clustering algorithm (in our case, kilosort 2.5), which aims to assign each spike detected in the voltage traces to a unique neuron. We can load the data from all units detected in this session."
   ]
  },
  {
   "cell_type": "code",
   "execution_count": 4,
   "id": "3e3392a5-4a9e-49d1-927a-c4732f96a5cf",
   "metadata": {},
   "outputs": [],
   "source": [
    "units = nwbfile_read.units[:]"
   ]
  },
  {
   "cell_type": "markdown",
   "id": "23751b3e-2cfb-41d0-9f81-4791bd6f234e",
   "metadata": {},
   "source": [
    "There is a large amount of data stored about each unit, but here are some relevant ones:"
   ]
  },
  {
   "cell_type": "code",
   "execution_count": 5,
   "id": "4093d36b-31ca-4b79-bf85-05b600ded297",
   "metadata": {},
   "outputs": [],
   "source": [
    "# timestamps of every spike for every unit\n",
    "spike_timestamps = units.spike_times\n",
    "\n",
    "# spike waveform for every unit\n",
    "spike_waveforms = units.waveform_mean\n",
    "\n",
    "# whether or not each unit passed default qc metrics\n",
    "spike_qc = units.default_qc"
   ]
  },
  {
   "cell_type": "markdown",
   "id": "caff3285-8628-45b1-8f0d-c7a09cf6943b",
   "metadata": {},
   "source": [
    "The majority of the rest of the data stored for the units are the various qc metrics, which are detailed in [ANOTHER PLACE??]."
   ]
  },
  {
   "cell_type": "markdown",
   "id": "c863f69c-0134-4948-84ce-92fd72a348d1",
   "metadata": {},
   "source": [
    "## Stimulus data\n",
    "\n",
    "Another very relevant piece of data you may wish to load is information about the laser stimulation."
   ]
  },
  {
   "cell_type": "code",
   "execution_count": 6,
   "id": "b3e44c91-399e-406d-90a5-4176acb031c8",
   "metadata": {},
   "outputs": [],
   "source": [
    "# load the stimulus table\n",
    "stimulus_table = nwbfile_read.intervals['trials'].to_dataframe()\n",
    "\n",
    "# get the different epochs and their beginning and end times\n",
    "epochs = nwbfile_read.intervals['epochs'].to_dataframe()"
   ]
  },
  {
   "cell_type": "code",
   "execution_count": 7,
   "id": "b7654119-4550-4fd5-adfd-38897a314062",
   "metadata": {},
   "outputs": [
    {
     "data": {
      "text/html": [
       "<div>\n",
       "<style scoped>\n",
       "    .dataframe tbody tr th:only-of-type {\n",
       "        vertical-align: middle;\n",
       "    }\n",
       "\n",
       "    .dataframe tbody tr th {\n",
       "        vertical-align: top;\n",
       "    }\n",
       "\n",
       "    .dataframe thead th {\n",
       "        text-align: right;\n",
       "    }\n",
       "</style>\n",
       "<table border=\"1\" class=\"dataframe\">\n",
       "  <thead>\n",
       "    <tr style=\"text-align: right;\">\n",
       "      <th></th>\n",
       "      <th>start_time</th>\n",
       "      <th>stop_time</th>\n",
       "      <th>tags</th>\n",
       "    </tr>\n",
       "    <tr>\n",
       "      <th>id</th>\n",
       "      <th></th>\n",
       "      <th></th>\n",
       "      <th></th>\n",
       "    </tr>\n",
       "  </thead>\n",
       "  <tbody>\n",
       "    <tr>\n",
       "      <th>0</th>\n",
       "      <td>8374.287345</td>\n",
       "      <td>8985.404967</td>\n",
       "      <td>[pre-stimulus]</td>\n",
       "    </tr>\n",
       "    <tr>\n",
       "      <th>1</th>\n",
       "      <td>8985.404967</td>\n",
       "      <td>14631.343367</td>\n",
       "      <td>[stimulus]</td>\n",
       "    </tr>\n",
       "    <tr>\n",
       "      <th>2</th>\n",
       "      <td>14631.343367</td>\n",
       "      <td>14643.429888</td>\n",
       "      <td>[post-stimulus]</td>\n",
       "    </tr>\n",
       "  </tbody>\n",
       "</table>\n",
       "</div>"
      ],
      "text/plain": [
       "      start_time     stop_time             tags\n",
       "id                                             \n",
       "0    8374.287345   8985.404967   [pre-stimulus]\n",
       "1    8985.404967  14631.343367       [stimulus]\n",
       "2   14631.343367  14643.429888  [post-stimulus]"
      ]
     },
     "execution_count": 7,
     "metadata": {},
     "output_type": "execute_result"
    }
   ],
   "source": [
    "epochs"
   ]
  },
  {
   "cell_type": "markdown",
   "id": "561c6705-311d-4c93-b60b-af3197aa4ae7",
   "metadata": {},
   "source": [
    "## Running data\n",
    "\n",
    "Finally, you can also find the animal's running speed throughout the session."
   ]
  },
  {
   "cell_type": "code",
   "execution_count": 8,
   "id": "68d71e9b-0748-44d0-b9c6-2b3fe4220add",
   "metadata": {},
   "outputs": [],
   "source": [
    "running_speed = nwbfile_read.processing['behavior']['BehavioralTimeSeries']['linear velocity'].data\n",
    "running_timestamps = nwbfile_read.processing['behavior']['BehavioralTimeSeries']['linear velocity'].timestamps"
   ]
  },
  {
   "cell_type": "code",
   "execution_count": null,
   "id": "c3db705a-4803-4902-8a7f-e0aee343beaf",
   "metadata": {},
   "outputs": [],
   "source": []
  }
 ],
 "metadata": {
  "kernelspec": {
   "display_name": "Python 3",
   "language": "python",
   "name": "python3"
  },
  "language_info": {
   "codemirror_mode": {
    "name": "ipython",
    "version": 3
   },
   "file_extension": ".py",
   "mimetype": "text/x-python",
   "name": "python",
   "nbconvert_exporter": "python",
   "pygments_lexer": "ipython3",
   "version": "3.9.12"
  }
 },
 "nbformat": 4,
 "nbformat_minor": 5
}
