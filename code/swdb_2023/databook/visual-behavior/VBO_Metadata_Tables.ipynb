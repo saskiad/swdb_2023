{
 "cells": [
  {
   "cell_type": "markdown",
   "metadata": {},
   "source": [
    "This notebook shows how to load metadata tables from the Visual Behavior 2P Project using AllenSDK tools to find experiments of interest. "
   ]
  },
  {
   "cell_type": "markdown",
   "metadata": {},
   "source": [
    "First, we need to import libraries for plotting and manipulating data"
   ]
  },
  {
   "cell_type": "code",
   "execution_count": 2,
   "metadata": {},
   "outputs": [],
   "source": [
    "import numpy as np\n",
    "import pandas as pd\n",
    "import matplotlib.pyplot as plt\n",
    "import seaborn as sns\n",
    "sns.set_context('notebook', font_scale=1.5, rc={'lines.markeredgewidth': 2})"
   ]
  },
  {
   "cell_type": "code",
   "execution_count": 3,
   "metadata": {},
   "outputs": [],
   "source": [
    "# prefered magic functions for jupyter notebook\n",
    "%load_ext autoreload\n",
    "%autoreload 2\n",
    "%matplotlib inline"
   ]
  },
  {
   "cell_type": "code",
   "execution_count": 4,
   "metadata": {},
   "outputs": [
    {
     "data": {
      "text/plain": [
       "'2.15.2'"
      ]
     },
     "execution_count": 4,
     "metadata": {},
     "output_type": "execute_result"
    }
   ],
   "source": [
    "# confirm that you are currently using the newest version of SDK (2.10.0 for now)\n",
    "import allensdk\n",
    "allensdk.__version__"
   ]
  },
  {
   "cell_type": "code",
   "execution_count": 5,
   "metadata": {},
   "outputs": [],
   "source": [
    "# import behavior projet cache class from SDK to be able to load the data\n",
    "import allensdk.brain_observatory.behavior.behavior_project_cache as bpc"
   ]
  },
  {
   "cell_type": "markdown",
   "metadata": {},
   "source": [
    "## Load data tables "
   ]
  },
  {
   "cell_type": "markdown",
   "metadata": {},
   "source": [
    "This code block allows you to use ```behavior_project_cache``` (bpc) class to get behavior and ophys tables."
   ]
  },
  {
   "cell_type": "code",
   "execution_count": 6,
   "metadata": {
    "scrolled": false
   },
   "outputs": [
    {
     "name": "stdout",
     "output_type": "stream",
     "text": [
      "Number of behavior sessions = 4787\n",
      "Number of ophys sessions = 705\n",
      "Number of ophys experiments = 1941\n",
      "Number of behavior sessions with Mesoscope = 164\n",
      "Number of ophys sessions with Mesoscope = 164\n",
      "Number of ophys experiments with Mesoscope = 867\n"
     ]
    }
   ],
   "source": [
    "\n",
    "# my_cache_dir = r'\\Data\\visual_behavior_ophys_cache_dir'\n",
    "\n",
    "# bc = bpc.VisualBehaviorOphysProjectCache.from_s3_cache(cache_dir=my_cache_dir)\n",
    "\n",
    "cache_dir = '/data/'\n",
    "bc = bpc.VisualBehaviorOphysProjectCache.from_local_cache(cache_dir=cache_dir, use_static_cache=True)\n",
    "\n",
    "\n",
    "behavior_session_table = bc.get_behavior_session_table()  \n",
    "ophys_session_table = bc.get_ophys_session_table()   \n",
    "experiment_table = bc.get_ophys_experiment_table()                         \n",
    "\n",
    "#print number of items in each table for all imaging and behavioral sessions\n",
    "print('Number of behavior sessions = {}'.format(len(behavior_session_table)))\n",
    "print('Number of ophys sessions = {}'.format(len(ophys_session_table)))\n",
    "print('Number of ophys experiments = {}'.format(len(experiment_table)))\n",
    "\n",
    "\n",
    "#print number of items in each table with Mesoscope imaging\n",
    "print('Number of behavior sessions with Mesoscope = {}'.format(len(behavior_session_table[behavior_session_table.project_code.isin(['VisualBehaviorMultiscope'])])))\n",
    "print('Number of ophys sessions with Mesoscope = {}'.format(len(ophys_session_table[ophys_session_table.project_code.isin(['VisualBehaviorMultiscope'])])))\n",
    "print('Number of ophys experiments with Mesoscope = {}'.format(len(experiment_table[experiment_table.project_code.isin(['VisualBehaviorMultiscope'])])))\n",
    "\n"
   ]
  },
  {
   "cell_type": "markdown",
   "metadata": {},
   "source": [
    "- **Experiment table** contains ophys experiment ids as well as associated metadata with them (```cre_line```, ```session_type```, ```project_code```, etc). This table gives you an overview of what data at the level of each experiment is available. The term *experiment* is used to describe one imaging plane during one session. For sessions that are imaged using mesoscope (```equipment_name``` = *MESO.1*), there will be up to 4 experiments associated with that sessions (2 imaging depths by 2 visual areas). Across sessions, the same imaging planes or experiments are linked using ```ophys_container_id```. For sessions that are imaged using scientifica (```equipment_name``` = *CAMP#.#*), there will be only 1 experiment which are similarly linked across different session types using ```ophys_container_id```.  \n",
    "- **Ophys session table** is similar to experiment table but it is a higher level overview of the data details. It groups imaging sessions using ```ophys_session_id``` and provides metadata associated with those sessions. \n",
    "- **Behavior session table** contains metadata related to animals' training history as well as their behavior during ophys imaging sessions. The table is organized using ```behavior_session_id```. Behavior sessions that were also imaging sessions have ophys ids assosiated with them. \n"
   ]
  },
  {
   "cell_type": "markdown",
   "metadata": {},
   "source": [
    "In this notebook, we will use ```experiment_table``` to select experiments of interest and look at them in a greater detail."
   ]
  },
  {
   "cell_type": "code",
   "execution_count": 7,
   "metadata": {
    "scrolled": false
   },
   "outputs": [
    {
     "data": {
      "text/html": [
       "<div>\n",
       "<style scoped>\n",
       "    .dataframe tbody tr th:only-of-type {\n",
       "        vertical-align: middle;\n",
       "    }\n",
       "\n",
       "    .dataframe tbody tr th {\n",
       "        vertical-align: top;\n",
       "    }\n",
       "\n",
       "    .dataframe thead th {\n",
       "        text-align: right;\n",
       "    }\n",
       "</style>\n",
       "<table border=\"1\" class=\"dataframe\">\n",
       "  <thead>\n",
       "    <tr style=\"text-align: right;\">\n",
       "      <th></th>\n",
       "      <th>equipment_name</th>\n",
       "      <th>full_genotype</th>\n",
       "      <th>mouse_id</th>\n",
       "      <th>reporter_line</th>\n",
       "      <th>driver_line</th>\n",
       "      <th>sex</th>\n",
       "      <th>age_in_days</th>\n",
       "      <th>cre_line</th>\n",
       "      <th>indicator</th>\n",
       "      <th>session_number</th>\n",
       "      <th>...</th>\n",
       "      <th>ophys_container_id</th>\n",
       "      <th>project_code</th>\n",
       "      <th>imaging_depth</th>\n",
       "      <th>targeted_structure</th>\n",
       "      <th>date_of_acquisition</th>\n",
       "      <th>session_type</th>\n",
       "      <th>experience_level</th>\n",
       "      <th>passive</th>\n",
       "      <th>image_set</th>\n",
       "      <th>file_id</th>\n",
       "    </tr>\n",
       "    <tr>\n",
       "      <th>ophys_experiment_id</th>\n",
       "      <th></th>\n",
       "      <th></th>\n",
       "      <th></th>\n",
       "      <th></th>\n",
       "      <th></th>\n",
       "      <th></th>\n",
       "      <th></th>\n",
       "      <th></th>\n",
       "      <th></th>\n",
       "      <th></th>\n",
       "      <th></th>\n",
       "      <th></th>\n",
       "      <th></th>\n",
       "      <th></th>\n",
       "      <th></th>\n",
       "      <th></th>\n",
       "      <th></th>\n",
       "      <th></th>\n",
       "      <th></th>\n",
       "      <th></th>\n",
       "      <th></th>\n",
       "    </tr>\n",
       "  </thead>\n",
       "  <tbody>\n",
       "    <tr>\n",
       "      <th>994082663</th>\n",
       "      <td>MESO.1</td>\n",
       "      <td>Sst-IRES-Cre/wt;Ai148(TIT2L-GC6f-ICL-tTA2)/wt</td>\n",
       "      <td>485689</td>\n",
       "      <td>Ai148(TIT2L-GC6f-ICL-tTA2)</td>\n",
       "      <td>[Sst-IRES-Cre]</td>\n",
       "      <td>M</td>\n",
       "      <td>151.0</td>\n",
       "      <td>Sst-IRES-Cre</td>\n",
       "      <td>GCaMP6f</td>\n",
       "      <td>4</td>\n",
       "      <td>...</td>\n",
       "      <td>1018028267</td>\n",
       "      <td>VisualBehaviorMultiscope4areasx2d</td>\n",
       "      <td>273</td>\n",
       "      <td>VISal</td>\n",
       "      <td>2019-12-12 08:34:51.428248+00:00</td>\n",
       "      <td>OPHYS_4_images_H</td>\n",
       "      <td>Novel 1</td>\n",
       "      <td>False</td>\n",
       "      <td>H</td>\n",
       "      <td>1120141649</td>\n",
       "    </tr>\n",
       "    <tr>\n",
       "      <th>1051249029</th>\n",
       "      <td>MESO.1</td>\n",
       "      <td>Vip-IRES-Cre/wt;Ai148(TIT2L-GC6f-ICL-tTA2)/wt</td>\n",
       "      <td>523922</td>\n",
       "      <td>Ai148(TIT2L-GC6f-ICL-tTA2)</td>\n",
       "      <td>[Vip-IRES-Cre]</td>\n",
       "      <td>M</td>\n",
       "      <td>185.0</td>\n",
       "      <td>Vip-IRES-Cre</td>\n",
       "      <td>GCaMP6f</td>\n",
       "      <td>6</td>\n",
       "      <td>...</td>\n",
       "      <td>1046576787</td>\n",
       "      <td>VisualBehaviorMultiscope</td>\n",
       "      <td>140</td>\n",
       "      <td>VISl</td>\n",
       "      <td>2020-09-17 08:24:21.654082+00:00</td>\n",
       "      <td>OPHYS_6_images_B</td>\n",
       "      <td>Novel &gt;1</td>\n",
       "      <td>False</td>\n",
       "      <td>B</td>\n",
       "      <td>1085395919</td>\n",
       "    </tr>\n",
       "    <tr>\n",
       "      <th>938002077</th>\n",
       "      <td>MESO.1</td>\n",
       "      <td>Vip-IRES-Cre/wt;Ai148(TIT2L-GC6f-ICL-tTA2)/wt</td>\n",
       "      <td>453988</td>\n",
       "      <td>Ai148(TIT2L-GC6f-ICL-tTA2)</td>\n",
       "      <td>[Vip-IRES-Cre]</td>\n",
       "      <td>M</td>\n",
       "      <td>207.0</td>\n",
       "      <td>Vip-IRES-Cre</td>\n",
       "      <td>GCaMP6f</td>\n",
       "      <td>3</td>\n",
       "      <td>...</td>\n",
       "      <td>1026722854</td>\n",
       "      <td>VisualBehaviorMultiscope</td>\n",
       "      <td>73</td>\n",
       "      <td>VISp</td>\n",
       "      <td>2019-09-03 08:13:17.884589+00:00</td>\n",
       "      <td>OPHYS_3_images_A</td>\n",
       "      <td>Familiar</td>\n",
       "      <td>False</td>\n",
       "      <td>A</td>\n",
       "      <td>1085400960</td>\n",
       "    </tr>\n",
       "    <tr>\n",
       "      <th>1008408514</th>\n",
       "      <td>MESO.1</td>\n",
       "      <td>Vip-IRES-Cre/wt;Ai148(TIT2L-GC6f-ICL-tTA2)/wt</td>\n",
       "      <td>499478</td>\n",
       "      <td>Ai148(TIT2L-GC6f-ICL-tTA2)</td>\n",
       "      <td>[Vip-IRES-Cre]</td>\n",
       "      <td>F</td>\n",
       "      <td>134.0</td>\n",
       "      <td>Vip-IRES-Cre</td>\n",
       "      <td>GCaMP6f</td>\n",
       "      <td>1</td>\n",
       "      <td>...</td>\n",
       "      <td>1018027819</td>\n",
       "      <td>VisualBehaviorMultiscope4areasx2d</td>\n",
       "      <td>267</td>\n",
       "      <td>VISam</td>\n",
       "      <td>2020-02-18 08:31:29.700735+00:00</td>\n",
       "      <td>OPHYS_1_images_G</td>\n",
       "      <td>Familiar</td>\n",
       "      <td>False</td>\n",
       "      <td>G</td>\n",
       "      <td>1120141977</td>\n",
       "    </tr>\n",
       "    <tr>\n",
       "      <th>1039384490</th>\n",
       "      <td>MESO.1</td>\n",
       "      <td>Slc17a7-IRES2-Cre/wt;Camk2a-tTA/wt;Ai93(TITL-G...</td>\n",
       "      <td>513630</td>\n",
       "      <td>Ai93(TITL-GCaMP6f)</td>\n",
       "      <td>[Slc17a7-IRES2-Cre, Camk2a-tTA]</td>\n",
       "      <td>F</td>\n",
       "      <td>202.0</td>\n",
       "      <td>Slc17a7-IRES2-Cre</td>\n",
       "      <td>GCaMP6f</td>\n",
       "      <td>2</td>\n",
       "      <td>...</td>\n",
       "      <td>1037672798</td>\n",
       "      <td>VisualBehaviorMultiscope4areasx2d</td>\n",
       "      <td>275</td>\n",
       "      <td>VISal</td>\n",
       "      <td>2020-07-29 11:32:52.641039+00:00</td>\n",
       "      <td>OPHYS_2_images_G_passive</td>\n",
       "      <td>Familiar</td>\n",
       "      <td>True</td>\n",
       "      <td>G</td>\n",
       "      <td>1120142333</td>\n",
       "    </tr>\n",
       "  </tbody>\n",
       "</table>\n",
       "<p>5 rows × 25 columns</p>\n",
       "</div>"
      ],
      "text/plain": [
       "                    equipment_name  \\\n",
       "ophys_experiment_id                  \n",
       "994082663                   MESO.1   \n",
       "1051249029                  MESO.1   \n",
       "938002077                   MESO.1   \n",
       "1008408514                  MESO.1   \n",
       "1039384490                  MESO.1   \n",
       "\n",
       "                                                         full_genotype  \\\n",
       "ophys_experiment_id                                                      \n",
       "994082663                Sst-IRES-Cre/wt;Ai148(TIT2L-GC6f-ICL-tTA2)/wt   \n",
       "1051249029               Vip-IRES-Cre/wt;Ai148(TIT2L-GC6f-ICL-tTA2)/wt   \n",
       "938002077                Vip-IRES-Cre/wt;Ai148(TIT2L-GC6f-ICL-tTA2)/wt   \n",
       "1008408514               Vip-IRES-Cre/wt;Ai148(TIT2L-GC6f-ICL-tTA2)/wt   \n",
       "1039384490           Slc17a7-IRES2-Cre/wt;Camk2a-tTA/wt;Ai93(TITL-G...   \n",
       "\n",
       "                    mouse_id               reporter_line  \\\n",
       "ophys_experiment_id                                        \n",
       "994082663             485689  Ai148(TIT2L-GC6f-ICL-tTA2)   \n",
       "1051249029            523922  Ai148(TIT2L-GC6f-ICL-tTA2)   \n",
       "938002077             453988  Ai148(TIT2L-GC6f-ICL-tTA2)   \n",
       "1008408514            499478  Ai148(TIT2L-GC6f-ICL-tTA2)   \n",
       "1039384490            513630          Ai93(TITL-GCaMP6f)   \n",
       "\n",
       "                                         driver_line sex  age_in_days  \\\n",
       "ophys_experiment_id                                                     \n",
       "994082663                             [Sst-IRES-Cre]   M        151.0   \n",
       "1051249029                            [Vip-IRES-Cre]   M        185.0   \n",
       "938002077                             [Vip-IRES-Cre]   M        207.0   \n",
       "1008408514                            [Vip-IRES-Cre]   F        134.0   \n",
       "1039384490           [Slc17a7-IRES2-Cre, Camk2a-tTA]   F        202.0   \n",
       "\n",
       "                              cre_line indicator  session_number  ...  \\\n",
       "ophys_experiment_id                                               ...   \n",
       "994082663                 Sst-IRES-Cre   GCaMP6f               4  ...   \n",
       "1051249029                Vip-IRES-Cre   GCaMP6f               6  ...   \n",
       "938002077                 Vip-IRES-Cre   GCaMP6f               3  ...   \n",
       "1008408514                Vip-IRES-Cre   GCaMP6f               1  ...   \n",
       "1039384490           Slc17a7-IRES2-Cre   GCaMP6f               2  ...   \n",
       "\n",
       "                     ophys_container_id                       project_code  \\\n",
       "ophys_experiment_id                                                          \n",
       "994082663                    1018028267  VisualBehaviorMultiscope4areasx2d   \n",
       "1051249029                   1046576787           VisualBehaviorMultiscope   \n",
       "938002077                    1026722854           VisualBehaviorMultiscope   \n",
       "1008408514                   1018027819  VisualBehaviorMultiscope4areasx2d   \n",
       "1039384490                   1037672798  VisualBehaviorMultiscope4areasx2d   \n",
       "\n",
       "                     imaging_depth  targeted_structure  \\\n",
       "ophys_experiment_id                                      \n",
       "994082663                      273               VISal   \n",
       "1051249029                     140                VISl   \n",
       "938002077                       73                VISp   \n",
       "1008408514                     267               VISam   \n",
       "1039384490                     275               VISal   \n",
       "\n",
       "                                 date_of_acquisition  \\\n",
       "ophys_experiment_id                                    \n",
       "994082663           2019-12-12 08:34:51.428248+00:00   \n",
       "1051249029          2020-09-17 08:24:21.654082+00:00   \n",
       "938002077           2019-09-03 08:13:17.884589+00:00   \n",
       "1008408514          2020-02-18 08:31:29.700735+00:00   \n",
       "1039384490          2020-07-29 11:32:52.641039+00:00   \n",
       "\n",
       "                                 session_type experience_level  passive  \\\n",
       "ophys_experiment_id                                                       \n",
       "994082663                    OPHYS_4_images_H          Novel 1    False   \n",
       "1051249029                   OPHYS_6_images_B         Novel >1    False   \n",
       "938002077                    OPHYS_3_images_A         Familiar    False   \n",
       "1008408514                   OPHYS_1_images_G         Familiar    False   \n",
       "1039384490           OPHYS_2_images_G_passive         Familiar     True   \n",
       "\n",
       "                    image_set     file_id  \n",
       "ophys_experiment_id                        \n",
       "994082663                   H  1120141649  \n",
       "1051249029                  B  1085395919  \n",
       "938002077                   A  1085400960  \n",
       "1008408514                  G  1120141977  \n",
       "1039384490                  G  1120142333  \n",
       "\n",
       "[5 rows x 25 columns]"
      ]
     },
     "execution_count": 7,
     "metadata": {},
     "output_type": "execute_result"
    }
   ],
   "source": [
    "# let's print a sample of 5 rows to see what's in the table\n",
    "experiment_table.sample(5)\n"
   ]
  },
  {
   "cell_type": "markdown",
   "metadata": {},
   "source": [
    "You can get any experiment ids from the experiment table by subsetting the table using various conditions (aka columns) in the table. Here, we can select experiments from Sst mice only, novel Ophys session 4, with 0 prior exposures to the stimulus (meaning the session was not a relake). "
   ]
  },
  {
   "cell_type": "code",
   "execution_count": 8,
   "metadata": {},
   "outputs": [
    {
     "name": "stdout",
     "output_type": "stream",
     "text": [
      "Number of experiments: 58\n"
     ]
    }
   ],
   "source": [
    "# get all Sst experiments for ophys session 4\n",
    "selected_experiment_table = experiment_table[(experiment_table.cre_line=='Sst-IRES-Cre')&\n",
    "                        (experiment_table.session_number==4) &\n",
    "                        (experiment_table.prior_exposures_to_image_set==0)]\n",
    "print('Number of experiments: {}'.format(len(selected_experiment_table)))"
   ]
  },
  {
   "cell_type": "markdown",
   "metadata": {},
   "source": [
    "Remember that any given experiment contains data from only one imaging plane. Some of these experiments come from the same imaging session. Here, we can check how many unique imaging sessions are associated with experiments selected above."
   ]
  },
  {
   "cell_type": "code",
   "execution_count": 9,
   "metadata": {},
   "outputs": [
    {
     "name": "stdout",
     "output_type": "stream",
     "text": [
      "Number of unique sessions: 19\n"
     ]
    }
   ],
   "source": [
    "print('Number of unique sessions: {}'.format(len(selected_experiment_table['ophys_session_id'].unique())))"
   ]
  },
  {
   "cell_type": "code",
   "execution_count": null,
   "metadata": {},
   "outputs": [],
   "source": []
  },
  {
   "cell_type": "code",
   "execution_count": null,
   "metadata": {},
   "outputs": [],
   "source": []
  },
  {
   "cell_type": "code",
   "execution_count": null,
   "metadata": {},
   "outputs": [],
   "source": []
  }
 ],
 "metadata": {
  "kernelspec": {
   "display_name": "visual_behavior_sdk",
   "language": "python",
   "name": "visual_behavior_sdk"
  },
  "language_info": {
   "codemirror_mode": {
    "name": "ipython",
    "version": 3
   },
   "file_extension": ".py",
   "mimetype": "text/x-python",
   "name": "python",
   "nbconvert_exporter": "python",
   "pygments_lexer": "ipython3",
   "version": "3.7.15"
  }
 },
 "nbformat": 4,
 "nbformat_minor": 4
}
